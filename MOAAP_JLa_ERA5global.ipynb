{
 "cells": [
  {
   "cell_type": "code",
   "execution_count": null,
   "id": "15ce4326-b311-4adf-b44a-436026092a7c",
   "metadata": {},
   "outputs": [],
   "source": [
    "import matplotlib.pyplot as plt \n",
    "import matplotlib\n",
    "import cartopy\n",
    "import cartopy.crs as ccrs\n",
    "import xarray as xr\n",
    "import numpy as np\n",
    "import pandas as pd\n",
    "import datetime\n",
    "import scipy\n",
    "\n",
    "%run ./Tracking_Functions.py"
   ]
  },
  {
   "cell_type": "markdown",
   "id": "838611fb-7585-44b8-820a-a278b7130709",
   "metadata": {},
   "source": [
    "# Load and prepare the ERA5 data (IVT, IVT reference climatology, sea level pressure)"
   ]
  },
  {
   "cell_type": "code",
   "execution_count": 6,
   "id": "b8a4c347-696d-4baf-8e61-520861c922c5",
   "metadata": {},
   "outputs": [],
   "source": [
    "# ds_ivt=xr.open_dataset('/work/aa0049/a271109/data_misc/AR_Guan/code/input_ivt/2020/ivt_202004.nc')\n",
    "ds_ivt=xr.open_dataset('/work/aa0049/a271109/data_misc/AR_Guan/code/input_ivt/2019/ivt_201904.nc')\n",
    "\n",
    "Time=np.array(pd.DataFrame(ds_ivt.time.values,columns=['Datetime'])['Datetime'].values.astype('datetime64[s]').tolist()) #[:30]\n",
    "Time_sel=Time\n",
    "\n",
    "ds_ivt=ds_ivt.sel(time=Time_sel) \n",
    "\n",
    "Lon, Lat= xr.broadcast(ds_ivt.lon, ds_ivt.lat)[0].values.T, xr.broadcast(ds_ivt.lon, ds_ivt.lat)[1].values.T[:,:]\n",
    "Mask=1*(Lat>-999) \n",
    "ivte = ds_ivt.ivtx.isel(ens=0,lev=0).values \n",
    "ivtn = ds_ivt.ivty.isel(ens=0,lev=0).values\n"
   ]
  },
  {
   "cell_type": "code",
   "execution_count": 8,
   "id": "a35b5b3a-0511-43b9-a657-b08447fd4a83",
   "metadata": {},
   "outputs": [],
   "source": [
    "ds_era_msl=xr.open_mfdataset('/work/aa0049/a271109/data_misc/ERA5/data_processed/MSL_ERA5_2019-04_1H_remapped.nc')"
   ]
  },
  {
   "cell_type": "code",
   "execution_count": null,
   "id": "0171f3a5-9acc-4a63-b645-feeabdd6077f",
   "metadata": {},
   "outputs": [],
   "source": [
    "ds_ivt_pctl=xr.open_dataset('/work/aa0049/a271109/data_misc/AR_Guan/code/ivt_percentile_mlauer.nc',decode_times=False)\n",
    "IVTtrheshold=ds_ivt_pctl.ivt1.isel(ens=0,lev=0).values "
   ]
  },
  {
   "cell_type": "markdown",
   "id": "413132a9-17dc-4715-90de-31d1b3426b77",
   "metadata": {},
   "source": [
    "# Run MOAAP"
   ]
  },
  {
   "cell_type": "code",
   "execution_count": 10,
   "id": "6c72d1b9-a6e8-4139-8893-ee81cc4002d7",
   "metadata": {},
   "outputs": [
    {
     "name": "stdout",
     "output_type": "stream",
     "text": [
      " \n",
      "The provided variables allow tracking the following phenomena\n",
      " \n",
      "|  phenomenon  | tracking |\n",
      "---------------------------\n",
      "   Jetstream   |   no\n",
      "   PSL CY/ACY  |   yes\n",
      "   Z500 CY/ACY |   no\n",
      "   COLs        |   no\n",
      "   IVT ARs     |   yes\n",
      "   MS ARs      |   no\n",
      "   Fronts      |   no\n",
      "   TCs         |   no\n",
      "   MCSs        |   no\n",
      "   Equ. Waves  |   no\n",
      "---------------------------\n",
      " \n",
      "======> track IVT streams and atmospheric rivers (ARs)\n",
      "        10342 object found\n",
      "        break up long living IVT objects that have many elements\n"
     ]
    },
    {
     "name": "stderr",
     "output_type": "stream",
     "text": [
      "100%|██████████| 1022/1022 [06:01<00:00,  2.83it/s] \n"
     ]
    },
    {
     "name": "stdout",
     "output_type": "stream",
     "text": [
      "        00:06:25.12\n",
      "9\n",
      "            Loop over 2513 objects\n",
      "        check if MSs quallify as ARs\n",
      "            Loop over 2512 objects\n"
     ]
    },
    {
     "name": "stderr",
     "output_type": "stream",
     "text": [
      "/work/aa0049/a271109/tools/MOAAP_AWI/Tracking_Functions.py:255: RuntimeWarning: All-NaN slice encountered\n",
      "  obj_min = np.nanmin(data_slice, axis=(1, 2))\n",
      "/work/aa0049/a271109/tools/MOAAP_AWI/Tracking_Functions.py:256: RuntimeWarning: All-NaN slice encountered\n",
      "  obj_max = np.nanmax(data_slice, axis=(1, 2))\n",
      "/work/aa0049/a271109/tools/MOAAP_AWI/Tracking_Functions.py:257: RuntimeWarning: Mean of empty slice\n",
      "  obj_mean = np.nanmean(data_slice, axis=(1, 2))\n",
      "/sw/spack-levante/mambaforge-22.9.0-2-Linux-x86_64-kptncg/lib/python3.10/site-packages/scipy/ndimage/_measurements.py:1407: RuntimeWarning: invalid value encountered in double_scalars\n",
      "  results = [sum(input * grids[dir].astype(float), labels, index) / normalizer\n"
     ]
    },
    {
     "name": "stdout",
     "output_type": "stream",
     "text": [
      "        00:09:24.84\n",
      "======> track cyclones from PSL\n",
      "        track cyclones\n",
      "            915 object found\n",
      "            break up long living CY objects that heve many elements\n"
     ]
    },
    {
     "name": "stderr",
     "output_type": "stream",
     "text": [
      "100%|██████████| 16/16 [02:14<00:00,  8.38s/it]\n"
     ]
    },
    {
     "name": "stdout",
     "output_type": "stream",
     "text": [
      "        00:02:39.24\n",
      "        track anti-cyclones\n",
      "        1870 object found\n",
      "            break up long living ACY objects that have many elements\n"
     ]
    },
    {
     "name": "stderr",
     "output_type": "stream",
     "text": [
      "100%|██████████| 16/16 [02:27<00:00,  9.23s/it]\n"
     ]
    },
    {
     "name": "stdout",
     "output_type": "stream",
     "text": [
      "        00:02:53.53\n",
      "            Loop over 183 objects\n",
      "            Loop over 75 objects\n",
      "        00:07:19.74\n",
      " \n",
      "Save the object masks into a joint netCDF\n",
      "Saved: ./output/ObjectMasks_ERA5_2019-04_global.nc\n",
      "        00:03:11.30\n"
     ]
    }
   ],
   "source": [
    "moaap(Lon = Lon,                           # 2D longitude grid centers\n",
    "      Lat = Lat,                           # 2D latitude grid spacing\n",
    "      Time = Time_sel,                         # datetime vector of data\n",
    "      dT = 1,                              # integer - temporal frequency of data [hour]\n",
    "      Mask = Mask,                         # mask with dimensions [lat,lon] defining analysis region\n",
    "      \n",
    "      ivte = ivte, # zonal integrated vapor transport [kg m-1 s-1]\n",
    "      ivtn = ivtn, # meidional integrated vapor transport [kg m-1 s-1]\n",
    "      \n",
    "      IVTtrheshold = IVTtrheshold, # Integrated water vapor transport threshold for AR detection [kg m-1 s-1]\n",
    "      # JLa: additionall fixed threshold 100 in code\n",
    "      MinTimeIVT=9,  # minimum livetime of ARs [hours]\n",
    "      AR_MinLen=1500,  # mimimum length of an AR [km]\n",
    "      AR_Lat=0,  # AR centroids have to be poeward of this latitude\n",
    "      AR_width_lenght_ratio=2,  # mimimum length to width ratio of AR\n",
    "\n",
    "      slp=ds_era_msl.MSL.values,  # sea level pressure [Pa]\n",
    "      # cyclone tracking\n",
    "      MinTimeCY=12,  # minimum livetime of cyclones [hours]\n",
    "      MaxPresAnCY=-8,  # preshure thershold for cyclone anomaly [hPa]\n",
    "      # anty cyclone tracking\n",
    "      MinTimeACY=12,  # minimum livetime of anticyclone [hours]\n",
    "      MinPresAnACY=6,  # preshure thershold for anti cyclone anomaly [hPa]\n",
    "      \n",
    "      DataName = 'ERA5_2019-04_global', #'ERA5_2020-04_global',\n",
    "      OutputFolder='./output/'\n",
    "     )"
   ]
  },
  {
   "cell_type": "code",
   "execution_count": null,
   "id": "e75e6d64-c996-4473-ad63-eec07b0d1fe7",
   "metadata": {},
   "outputs": [],
   "source": []
  }
 ],
 "metadata": {
  "kernelspec": {
   "display_name": "1 Python 3 (based on the module python3/2023.01)",
   "language": "python",
   "name": "python3_2023_01"
  },
  "language_info": {
   "codemirror_mode": {
    "name": "ipython",
    "version": 3
   },
   "file_extension": ".py",
   "mimetype": "text/x-python",
   "name": "python",
   "nbconvert_exporter": "python",
   "pygments_lexer": "ipython3",
   "version": "3.10.10"
  }
 },
 "nbformat": 4,
 "nbformat_minor": 5
}
